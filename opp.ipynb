{
  "nbformat": 4,
  "nbformat_minor": 0,
  "metadata": {
    "colab": {
      "provenance": []
    },
    "kernelspec": {
      "name": "python3",
      "display_name": "Python 3"
    },
    "language_info": {
      "name": "python"
    }
  },
  "cells": [
    {
      "cell_type": "markdown",
      "source": [
        "1. **What is Object-Oriented Programming (OOP)?**\n",
        "\n",
        "  Object-Oriented Programming (OOP) is a programming paradigm that organizes software design around objects, which are data structures containing both data (attributes) and code (methods) that operate on that data, promoting code reusability and modularity.\n",
        "\n",
        "2. **What is a class in OOP?**\n",
        "\n",
        "   In object-oriented programming (OOP), a class is a blueprint or template for creating objects, defining the data (attributes) and behavior (methods) that objects of that class will have.\n",
        "\n",
        "  **Blueprint/Template:**\n",
        "\n",
        "  A class acts as a blueprint, outlining the structure and functionality of objects that will be created from it.\n",
        "\n",
        "  **Data (Attributes):**\n",
        "\n",
        "  A class defines the data or properties that objects will have, such as name, age, color, etc.\n",
        "\n",
        "  **Behavior (Methods):**\n",
        "\n",
        "  A class also defines the actions or operations that objects can perform, like move, speak, or calculate, etc.\n",
        "\n",
        "  **Objects as Instances:**\n",
        "\n",
        "  Objects are specific instances of a class, meaning they are created based on the class's blueprint.\n",
        "\n",
        "3. **What is an object in OOP?**\n",
        "\n",
        "   In Object-Oriented Programming (OOP), an object is a real-world entity with unique characteristics and behaviors, representing an instance of a class. It encapsulates data (attributes) and actions (methods) that define its state and behavior.\n",
        "\n",
        "4. **What is the difference between abstraction and encapsulation?**\n",
        "\n",
        "   Abstraction hides complex implementation details, focusing on essential features, while encapsulation bundles data and methods into a unit, controlling access and protecting internal state.\n",
        "\n",
        "   **Abstraction:**\n",
        "\n",
        "  **Focus:** Hiding unnecessary details and presenting a simplified view of an object or system.\n",
        "\n",
        "  **Purpose:** To reduce complexity and make systems easier to understand and use.\n",
        "\n",
        "  **Example:** In a car, you only need to know how to steer, accelerate, and brake, not the internal workings of the engine.\n",
        "\n",
        "  **Implementation:** Achieved through abstract classes, interfaces, and inheritance.\n",
        "\n",
        "  **What:** Abstraction is about \"what\" an object does, rather than \"how\" it does it.\n",
        "\n",
        "  **Encapsulation:**\n",
        "\n",
        "   **Focus:**Bundling data and methods that operate on that data within a single unit (like a class) and controlling access to those data and methods.\n",
        "\n",
        "   **Purpose:**To protect the internal state of an object and prevent unauthorized access or modification.\n",
        "\n",
        "  **Example:**A bank account has an account number and balance, but you can't directly access or change the balance; you do so through methods like deposit or withdraw.\n",
        "\n",
        "  **Implementation:**Achieved through access modifiers (like private, public, protected), getter, and setter methods.\n",
        "\n",
        "  **What:**Encapsulation is about \"how\" functionality is achieved, focusing on data hiding and access control.\n",
        "\n",
        "5. **What are dunder methods in Python?**\n",
        "\n",
        "   In Python, \"dunder\" methods (short for \"double underscore\" methods) are special methods, also known as magic methods, that have double underscores at the beginning and end of their names (e.g., __init__, __str__) and are used to customize the behavior of classes and objects with respect to built-in operators and functions.\n",
        "\n",
        "6. **Explain the concept of inheritance in OOP.**\n",
        "\n",
        "   In Object-Oriented Programming (OOP), inheritance is a mechanism where a new class (subclass or child class) inherits properties and behaviors from an existing class (superclass or parent class), promoting code reuse and hierarchical relationships.\n",
        "\n",
        "7. **What is polymorphism in OOP?**\n",
        "\n",
        "   In Object-Oriented Programming (OOP), polymorphism means \"many forms\" and allows objects of different classes to be treated as objects of a common type, enabling them to respond to the same method call in different ways.\n",
        "\n",
        "   **Definition:**Polymorphism is a core concept in OOP that allows you to use a single interface (like a method name) to perform different actions based on the object's type.\n",
        "\n",
        "8. **How is encapsulation achieved in Python?**\n",
        "    \n",
        "  **Encapsulation in Python:**Python supports encapsulation through conventions and programming practices rather than enforced access modifiers.\n",
        "  \n",
        "  The core principle is to bundle data (attributes) and methods that operate on that data into a class.\n",
        "\n",
        "  This helps in hiding the internal implementation details of a class and exposing only a controlled interface.\n",
        "  \n",
        "\n",
        "         class MyClass:\n",
        "     def __init__(self, public_var, _protected_var, __private_var):\n",
        "        self.public_var = public_var  # Public attribute\n",
        "        self._protected_var = _protected_var  # Protected attribute\n",
        "        self.__private_var = __private_var  # Private attribute\n",
        "\n",
        "     def public_method(self):\n",
        "        print(f\"Public method: {self.public_var}\")\n",
        "\n",
        "     def _protected_method(self):\n",
        "        print(f\"Protected method: {_protected_var}\")\n",
        "\n",
        "     def __private_method(self):\n",
        "        print(f\"Private method: {self.__private_var}\")\n",
        "\n",
        "     # Creating an instance of the class\n",
        "     my_object = MyClass(\"public value\", \"protected value\", \"private value\")\n",
        "\n",
        "      # Accessing public members\n",
        "     print(my_object.public_var)\n",
        "     my_object.public_method()\n",
        "\n",
        "     # Accessing protected members (not recommended outside the class/subclasses)\n",
        "     # print(my_object._protected_var) # This is allowed but discouraged\n",
        "     # my_object._protected_method() # This is allowed but discouraged\n",
        "\n",
        "     # Accessing private members (not allowed directly)\n",
        "     # print(my_object.__private_var) # This will raise an AttributeError\n",
        "     # my_object.__private_method() # This will raise an AttributeError\n",
        "\n",
        "\n",
        "9. **What is a constructor in Python?**\n",
        "\n",
        "     In Python, a constructor is a special method, conventionally named __init__, that initializes the attributes of a class when an object (instance) of that class is created.\n",
        "\n",
        "10. **What are class and static methods in Python?**\n",
        "\n",
        "     **Class Methods:**\n",
        "\n",
        "     **Binding:** Class methods are bound to the class, not an instance of the class.\n",
        "\n",
        "     **Access:** They can access and modify class-level attributes using the cls keyword (which represents the class itself).\n",
        "\n",
        "     **Usage:** Often used for:Creating alternative constructors (e.g., from_string() for creating objects from strings).Performing actions that affect the class as a whole.\n",
        "\n",
        "     **Static Methods:**\n",
        "\n",
        "     **Binding:**Static methods are not bound to either the class or an instance of the class.\n",
        "\n",
        "     **Access:**They do not have access to the class or instance state (no cls or self keyword).\n",
        "\n",
        "     **Usage:**Used for utility functions that are related to the class but don't require access to instance-specific or class-specific attributes.\n",
        "     Can be thought of as regular functions that reside within the class's namespace.\n",
        "\n",
        "11. **What is method overloading in Python?**\n",
        "\n",
        "     In Python, while it's commonly discussed, \"method overloading\" in the traditional sense (defining multiple methods with the same name but different parameters) isn't directly supported, but you can achieve similar functionality using default arguments and variable-length arguments.\n",
        "\n",
        "12. **What is method overriding in OOP?**\n",
        "\n",
        "     In object-oriented programming (OOP), method overriding allows a subclass to provide a specific implementation of a method that is already defined in its superclass, enabling customized behavior while maintaining the same method signature.\n",
        "\n",
        "13. **What is a property decorator in Python?**\n",
        "\n",
        "     property decorator is a built-in decorator in Python which is helpful in defining the properties effortlessly without manually calling the inbuilt function property(). Which is used to return the property attributes of a class from the stated getter, setter and deleter as parameters.\n",
        "\n",
        "14.  **Why is polymorphism important in OOP?**\n",
        "\n",
        "     Polymorphism is crucial in Object-Oriented Programming (OOP) because it enables code reusability, flexibility, and extensibility by allowing objects of different types to be treated as objects of a common type, promoting a more adaptable and maintainable software design.\n",
        "\n",
        "15. **What is an abstract class in Python?**\n",
        "\n",
        "     In Python, an abstract class is a blueprint for other classes, designed to be subclassed but not instantiated directly, containing abstract methods (methods without implementation) that subclasses must implement.\n",
        "\n",
        "16. **What are the advantages of OOP?**\n",
        "\n",
        "     Object-Oriented Programming (OOP) offers advantages like improved code organization through encapsulation, reusability via inheritance, flexibility with polymorphism, and simplification of complex systems through abstraction, leading to modular, maintainable, and scalable software.\n",
        "\n",
        "17. **What is the difference between a class variable and an instance variable?**\n",
        "\n",
        "     In object-oriented programming, a class variable (also known as a static variable) is shared by all instances (objects) of a class, while an instance variable is unique to each instance.\n",
        "\n",
        " **Class Variable:**\n",
        "\n",
        "     **Definition:** Declared within the class but outside any method or constructor.\n",
        "\n",
        "     **Scope:** Accessible to all instances of the class and can be accessed directly through the class name.\n",
        "\n",
        "     **Memory:** Only one copy of the class variable exists, shared by all instances.\n",
        "\n",
        "     **Use Cases:** Storing constants, shared data, or tracking the number of instances created.\n",
        "\n",
        "\n",
        "  **Instance Variable:**\n",
        "\n",
        "   **Definition:** Declared within the class, but typically inside the constructor ( __init__ in Python or public MyClass() in Java).\n",
        "\n",
        "  **Scope:** Accessible only to the instance it belongs to.\n",
        "\n",
        "  **Memory:** Each instance of the class has its own independent copy of the instance variable.\n",
        "\n",
        "  **Use Cases:** Storing data specific to each instance, such as a name, age, or other attributes.\n",
        "\n",
        "18. **What is multiple inheritance in Python?**\n",
        "\n",
        "     In Python, multiple inheritance allows a class to inherit attributes and methods from more than one parent class, combining functionalities from different base classes into a single derived class.\n",
        "\n",
        "19. **Explain the purpose of ‘’__str__’ and ‘__repr__’ ‘ methods in Python.**\n",
        "\n",
        "   **__str__:**\n",
        "\n",
        "     This method is called when you use the str() function or the print() function on an object.\n",
        "\n",
        "     Its purpose is to return a string that is readable and understandable for the end-user.\n",
        "\n",
        "     If you don't define __str__, Python will fall back to using __repr__ (if defined).\n",
        "\n",
        "     **Example:** If you have a Person class, __str__ might return \"Name: John, Age: 30\".\n",
        "\n",
        "  **__repr__:**\n",
        "\n",
        "     This method is called when you use the repr() function or when an object is displayed in the interactive shell.\n",
        "\n",
        "     Its purpose is to return a string that is unambiguous and can be used to recreate the object.\n",
        "\n",
        "     This is often used for debugging and development purposes, where you need to know the exact state of an object.\n",
        "\n",
        "     **Example:** If you have a Person class, __repr__ might return \"Person(name='John', age=30)\".\n",
        "\n",
        "20. **What is the significance of the ‘super()’ function in Python?**\n",
        "\n",
        "     In Python, the super() function is a built-in function used to call methods defined in the parent class (superclass) from a subclass, enabling code reuse and extending functionality in object-oriented programming.\n",
        "\n",
        "21. **What is the significance of the __del__ method in Python?**\n",
        "\n",
        "     In Python, the __del__ method, also known as the destructor, is called by the garbage collector just before an object is destroyed, allowing for cleanup of resources like file handles or network connections.\n",
        "\n",
        "22. **What is the difference between @staticmethod and @classmethod in Python?**\n",
        "\n",
        "    **@classmethod:**\n",
        "\n",
        "\n",
        "**Binding:** Binds a method to the class, not a specific instance.\n",
        "\n",
        "**First Argument:** The first argument of a class method is conventionally named cls and represents the class itself, allowing access to class-level attributes and methods.\n",
        "\n",
        "**Use Cases:** Suitable for factory methods (creating instances of the class), accessing or modifying class-level attributes, or when the method needs to interact with the class itself.\n",
        "\n",
        "  **@staticmethod:**\n",
        "\n",
        "**Binding:**Binds a method to the class, but without any implicit arguments (no cls or self).\n",
        "\n",
        "**Use Cases:**Ideal for utility functions that don't depend on instance or class state, and are logically related to the class but don't need to access it. It's essentially a function placed within a class's namespace.\n",
        "\n",
        "23. **How does polymorphism work in Python with inheritance?**\n",
        "\n",
        "     In Python, polymorphism with inheritance is achieved through method overriding, where a subclass redefines a method inherited from its parent class, allowing the same method name to have different behaviors based on the object type.\n",
        "\n",
        "**Inheritance:**A child class (subclass) inherits attributes and methods from a parent class (superclass).\n",
        "\n",
        "**Method Overriding:**If a method in the parent class doesn't fully suit the needs of the subclass, the subclass can override it by defining a method with the same name but with a different implementation.\n",
        "\n",
        "**Polymorphism in Action:**When you call the method on an object of the subclass, the overridden version of the method is executed, demonstrating the \"many forms\" aspect of polymorphism.\n",
        "\n",
        "24. **What is method chaining in Python OOP?**\n",
        "\n",
        "     In Python object-oriented programming (OOP), method chaining allows you to call multiple methods sequentially on the same object in a single line by having each method return the object itself, enabling a fluent and readable syntax.\n",
        "\n",
        "25. **What is the purpose of the __call__ method in Python?**\n",
        "\n",
        "     The __call__ method in Python allows you to make an instance of a class callable, meaning you can call it like a function (e.g., instance() instead of instance.some_method()).\n",
        "\n",
        "   **Purpose:** The primary purpose of __call__ is to define the behavior that will occur when an instance of a class is called as a function.\n",
        "\n",
        "   **How it works:** When you define a __call__ method within a class, any instance of that class can be called as if it were a function.\n"
      ],
      "metadata": {
        "id": "yfxkXxDF1com"
      }
    },
    {
      "cell_type": "markdown",
      "source": [
        "**Practical Questions**"
      ],
      "metadata": {
        "id": "0CBMjZMiGxaL"
      }
    },
    {
      "cell_type": "markdown",
      "source": [
        "1. **Create a parent class Animal with a method speak() that prints a generic\n",
        "  message. Create a child class Dog that overrides the speak() method to print \"Bark!\".**\n",
        "\n",
        "  "
      ],
      "metadata": {
        "id": "jgCshKDHG4Hk"
      }
    },
    {
      "cell_type": "code",
      "execution_count": 1,
      "metadata": {
        "id": "miV34kJv1aG3",
        "colab": {
          "base_uri": "https://localhost:8080/"
        },
        "outputId": "cf2aed50-d266-43d8-e7c9-e8a498f0a536"
      },
      "outputs": [
        {
          "output_type": "stream",
          "name": "stdout",
          "text": [
            "Animal makes a sound\n",
            "Bark!\n"
          ]
        }
      ],
      "source": [
        "# Parent class\n",
        "class Animal:\n",
        "    def speak(self):\n",
        "        print(\"Animal makes a sound\")\n",
        "\n",
        "# Child class\n",
        "class Dog(Animal):\n",
        "    def speak(self):\n",
        "        print(\"Bark!\")\n",
        "\n",
        "# Create instances and call the speak method\n",
        "animal = Animal()\n",
        "animal.speak()  # Output: Animal makes a sound\n",
        "\n",
        "dog = Dog()\n",
        "dog.speak()  # Output: Bark!\n"
      ]
    },
    {
      "cell_type": "markdown",
      "source": [
        "2. **Write a program to create an abstract class Shape with a method area().\n",
        "  Derive classes Circle and Rectangle from it and implement the area() method in both.**"
      ],
      "metadata": {
        "id": "fHV577xhHjLe"
      }
    },
    {
      "cell_type": "code",
      "source": [
        "from abc import ABC, abstractmethod\n",
        "import math\n",
        "\n",
        "# Abstract class Shape\n",
        "class Shape(ABC):\n",
        "    @abstractmethod\n",
        "    def area(self):\n",
        "        pass\n",
        "\n",
        "# Class Circle derived from Shape\n",
        "class Circle(Shape):\n",
        "    def __init__(self, radius):\n",
        "        self.radius = radius\n",
        "\n",
        "    def area(self):\n",
        "        return math.pi * (self.radius ** 2)\n",
        "\n",
        "# Class Rectangle derived from Shape\n",
        "class Rectangle(Shape):\n",
        "    def __init__(self, length, width):\n",
        "        self.length = length\n",
        "        self.width = width\n",
        "\n",
        "    def area(self):\n",
        "        return self.length * self.width\n",
        "\n",
        "# Create instances and calculate the area\n",
        "circle = Circle(5)\n",
        "print(f\"Area of Circle: {circle.area()}\")\n",
        "\n",
        "rectangle = Rectangle(4, 6)\n",
        "print(f\"Area of Rectangle: {rectangle.area()}\")\n"
      ],
      "metadata": {
        "colab": {
          "base_uri": "https://localhost:8080/"
        },
        "id": "I3gXuNAIIAmp",
        "outputId": "dab50454-430d-45aa-eef8-ee075d9d36d7"
      },
      "execution_count": 2,
      "outputs": [
        {
          "output_type": "stream",
          "name": "stdout",
          "text": [
            "Area of Circle: 78.53981633974483\n",
            "Area of Rectangle: 24\n"
          ]
        }
      ]
    },
    {
      "cell_type": "markdown",
      "source": [
        "3. **Implement a multi-level inheritance scenario where a class Vehicle has an\n",
        "  attribute type. Derive a class Car and further derive a class ElectricCar that adds a battery attribute.**"
      ],
      "metadata": {
        "id": "pnfbRhUpID9s"
      }
    },
    {
      "cell_type": "code",
      "source": [
        "# Base class Vehicle\n",
        "class Vehicle:\n",
        "    def __init__(self, type):\n",
        "        self.type = type\n",
        "\n",
        "    def display_type(self):\n",
        "        print(f\"Vehicle type: {self.type}\")\n",
        "\n",
        "# Class Car derived from Vehicle\n",
        "class Car(Vehicle):\n",
        "    def __init__(self, type, brand):\n",
        "        # Calling the parent constructor to initialize type\n",
        "        super().__init__(type)\n",
        "        self.brand = brand\n",
        "\n",
        "    def display_info(self):\n",
        "        print(f\"Car brand: {self.brand}\")\n",
        "        self.display_type()  # Calling method from Vehicle class\n",
        "\n",
        "# Class ElectricCar derived from Car\n",
        "class ElectricCar(Car):\n",
        "    def __init__(self, type, brand, battery):\n",
        "        # Calling the parent constructor to initialize type and brand\n",
        "        super().__init__(type, brand)\n",
        "        self.battery = battery\n",
        "\n",
        "    def display_battery(self):\n",
        "        print(f\"Electric car battery capacity: {self.battery} kWh\")\n",
        "\n",
        "    def display_info(self):\n",
        "        super().display_info()  # Calling method from Car class\n",
        "        self.display_battery()  # Calling method from ElectricCar class\n",
        "\n",
        "# Create instances and display information\n",
        "vehicle = Vehicle(\"Truck\")\n",
        "vehicle.display_type()\n",
        "\n",
        "car = Car(\"Sedan\", \"Toyota\")\n",
        "car.display_info()\n",
        "\n",
        "electric_car = ElectricCar(\"Sedan\", \"Tesla\", 75)\n",
        "electric_car.display_info()\n"
      ],
      "metadata": {
        "colab": {
          "base_uri": "https://localhost:8080/"
        },
        "id": "iUE9Ieh3IQkP",
        "outputId": "2fab6041-3bbd-4c1f-ee33-fd2e1387c750"
      },
      "execution_count": 3,
      "outputs": [
        {
          "output_type": "stream",
          "name": "stdout",
          "text": [
            "Vehicle type: Truck\n",
            "Car brand: Toyota\n",
            "Vehicle type: Sedan\n",
            "Car brand: Tesla\n",
            "Vehicle type: Sedan\n",
            "Electric car battery capacity: 75 kWh\n"
          ]
        }
      ]
    },
    {
      "cell_type": "markdown",
      "source": [
        "4. **Demonstrate polymorphism by creating a base class Bird with a method fly\n",
        "  (). Create two derived classes Sparrow and Penguin that override the fly() method.**\n",
        "\n",
        "\n"
      ],
      "metadata": {
        "id": "Av43mv3TIhdx"
      }
    },
    {
      "cell_type": "code",
      "source": [
        "# Base class Bird\n",
        "class Bird:\n",
        "    def fly(self):\n",
        "        print(\"This bird can fly\")\n",
        "\n",
        "# Derived class Sparrow\n",
        "class Sparrow(Bird):\n",
        "    def fly(self):\n",
        "        print(\"Sparrow is flying\")\n",
        "\n",
        "# Derived class Penguin\n",
        "class Penguin(Bird):\n",
        "    def fly(self):\n",
        "        print(\"Penguins cannot fly\")\n",
        "\n",
        "# Function to demonstrate polymorphism\n",
        "def let_bird_fly(bird: Bird):\n",
        "    bird.fly()\n",
        "\n",
        "# Create instances of Sparrow and Penguin\n",
        "sparrow = Sparrow()\n",
        "penguin = Penguin()\n",
        "\n",
        "# Demonstrate polymorphism\n",
        "let_bird_fly(sparrow)  # Output: Sparrow is flying\n",
        "let_bird_fly(penguin)  # Output: Penguins cannot fly\n"
      ],
      "metadata": {
        "colab": {
          "base_uri": "https://localhost:8080/"
        },
        "id": "FTFoYtXZIrJC",
        "outputId": "c395b05d-cd5a-4f39-e7ae-61eff2adc25f"
      },
      "execution_count": 4,
      "outputs": [
        {
          "output_type": "stream",
          "name": "stdout",
          "text": [
            "Sparrow is flying\n",
            "Penguins cannot fly\n"
          ]
        }
      ]
    },
    {
      "cell_type": "markdown",
      "source": [
        "5. **Write a program to demonstrate encapsulation by creating a class\n",
        "  BankAccount with private attributes balance and methods to deposit, withdraw, and check balance.**"
      ],
      "metadata": {
        "id": "1bez_b98I3R_"
      }
    },
    {
      "cell_type": "code",
      "source": [
        "class BankAccount:\n",
        "    def __init__(self, initial_balance=0):\n",
        "        # Private attribute: balance\n",
        "        self.__balance = initial_balance\n",
        "\n",
        "    # Public method to deposit money\n",
        "    def deposit(self, amount):\n",
        "        if amount > 0:\n",
        "            self.__balance += amount\n",
        "            print(f\"Deposited {amount}. New balance: {self.__balance}\")\n",
        "        else:\n",
        "            print(\"Deposit amount must be positive.\")\n",
        "\n",
        "    # Public method to withdraw money\n",
        "    def withdraw(self, amount):\n",
        "        if 0 < amount <= self.__balance:\n",
        "            self.__balance -= amount\n",
        "            print(f\"Withdrew {amount}. New balance: {self.__balance}\")\n",
        "        else:\n",
        "            print(\"Invalid withdrawal amount or insufficient funds.\")\n",
        "\n",
        "    # Public method to check balance\n",
        "    def check_balance(self):\n",
        "        print(f\"Current balance: {self.__balance}\")\n",
        "\n",
        "# Create an instance of BankAccount\n",
        "account = BankAccount(1000)\n",
        "\n",
        "# Accessing the methods\n",
        "account.check_balance()  # Check initial balance\n",
        "account.deposit(500)     # Deposit money\n",
        "account.withdraw(200)    # Withdraw money\n",
        "account.check_balance()  # Check balance after transactions\n",
        "\n",
        "# Attempting to access the private attribute directly (will raise an error)\n",
        "# print(account.__balance)  # Uncommenting this will raise an AttributeError\n"
      ],
      "metadata": {
        "colab": {
          "base_uri": "https://localhost:8080/"
        },
        "id": "lCK0F5WxJHHp",
        "outputId": "1ce5140f-b39a-47e5-8e77-f17b73a65b10"
      },
      "execution_count": 5,
      "outputs": [
        {
          "output_type": "stream",
          "name": "stdout",
          "text": [
            "Current balance: 1000\n",
            "Deposited 500. New balance: 1500\n",
            "Withdrew 200. New balance: 1300\n",
            "Current balance: 1300\n"
          ]
        }
      ]
    },
    {
      "cell_type": "markdown",
      "source": [
        "6. **Demonstrate runtime polymorphism using a method play() in a base class\n",
        "  Instrument. Derive classes Guitar and Piano that implement their own version of play().**"
      ],
      "metadata": {
        "id": "SJRxgUnHJROt"
      }
    },
    {
      "cell_type": "code",
      "source": [
        "# Base class Instrument\n",
        "class Instrument:\n",
        "    def play(self):\n",
        "        print(\"Playing an instrument\")\n",
        "\n",
        "# Derived class Guitar\n",
        "class Guitar(Instrument):\n",
        "    def play(self):\n",
        "        print(\"Playing the guitar\")\n",
        "\n",
        "# Derived class Piano\n",
        "class Piano(Instrument):\n",
        "    def play(self):\n",
        "        print(\"Playing the piano\")\n",
        "\n",
        "# Function to demonstrate runtime polymorphism\n",
        "def perform_play(instrument: Instrument):\n",
        "    instrument.play()\n",
        "\n",
        "# Create instances of Guitar and Piano\n",
        "guitar = Guitar()\n",
        "piano = Piano()\n",
        "\n",
        "# Demonstrating runtime polymorphism\n",
        "perform_play(guitar)  # Output: Playing the guitar\n",
        "perform_play(piano)   # Output: Playing the piano\n"
      ],
      "metadata": {
        "colab": {
          "base_uri": "https://localhost:8080/"
        },
        "id": "Nky5iUX2JZNu",
        "outputId": "01f2f1b0-b232-4d4c-c429-36b88576a5c6"
      },
      "execution_count": 6,
      "outputs": [
        {
          "output_type": "stream",
          "name": "stdout",
          "text": [
            "Playing the guitar\n",
            "Playing the piano\n"
          ]
        }
      ]
    },
    {
      "cell_type": "markdown",
      "source": [
        "7. **Create a class MathOperations with a class method add_numbers() to add two\n",
        "  numbers and a static method subtract_numbers() to subtract two numbers.**"
      ],
      "metadata": {
        "id": "r9wLKm5uJiX_"
      }
    },
    {
      "cell_type": "code",
      "source": [
        "class MathOperations:\n",
        "    # Class method to add two numbers\n",
        "    @classmethod\n",
        "    def add_numbers(cls, num1, num2):\n",
        "        return num1 + num2\n",
        "\n",
        "    # Static method to subtract two numbers\n",
        "    @staticmethod\n",
        "    def subtract_numbers(num1, num2):\n",
        "        return num1 - num2\n",
        "\n",
        "# Using the class method to add numbers\n",
        "result_add = MathOperations.add_numbers(10, 5)\n",
        "print(f\"Addition result: {result_add}\")\n",
        "\n",
        "# Using the static method to subtract numbers\n",
        "result_subtract = MathOperations.subtract_numbers(10, 5)\n",
        "print(f\"Subtraction result: {result_subtract}\")\n"
      ],
      "metadata": {
        "colab": {
          "base_uri": "https://localhost:8080/"
        },
        "id": "y9xn2QFZJqnG",
        "outputId": "c3668c02-f724-4420-8eb6-6cc7605c2d0f"
      },
      "execution_count": 7,
      "outputs": [
        {
          "output_type": "stream",
          "name": "stdout",
          "text": [
            "Addition result: 15\n",
            "Subtraction result: 5\n"
          ]
        }
      ]
    },
    {
      "cell_type": "markdown",
      "source": [
        "8. **Implement a class Person with a class method to count the total number of\n",
        "  persons created.**"
      ],
      "metadata": {
        "id": "4BvHuahQJ0E_"
      }
    },
    {
      "cell_type": "code",
      "source": [
        "class Person:\n",
        "    # Class variable to count the total number of persons created\n",
        "    total_persons = 0\n",
        "\n",
        "    def __init__(self, name, age):\n",
        "        self.name = name\n",
        "        self.age = age\n",
        "        # Increment the total count whenever a new person is created\n",
        "        Person.total_persons += 1\n",
        "\n",
        "    # Class method to get the total number of persons created\n",
        "    @classmethod\n",
        "    def get_total_persons(cls):\n",
        "        return cls.total_persons\n",
        "\n",
        "# Create instances of the Person class\n",
        "person1 = Person(\"Alice\", 30)\n",
        "person2 = Person(\"Bob\", 25)\n",
        "person3 = Person(\"Charlie\", 35)\n",
        "\n",
        "# Access the class method to get the total number of persons created\n",
        "print(f\"Total persons created: {Person.get_total_persons()}\")\n"
      ],
      "metadata": {
        "colab": {
          "base_uri": "https://localhost:8080/"
        },
        "id": "N7crsmidKJCJ",
        "outputId": "63254814-da4a-4643-e70e-0296244cf62e"
      },
      "execution_count": 9,
      "outputs": [
        {
          "output_type": "stream",
          "name": "stdout",
          "text": [
            "Total persons created: 3\n"
          ]
        }
      ]
    },
    {
      "cell_type": "markdown",
      "source": [
        "9. **Write a class Fraction with attributes numerator and denominator. Override the str method to display the fraction as \"numerator/denominator\".**"
      ],
      "metadata": {
        "id": "xKExk3WBKSAV"
      }
    },
    {
      "cell_type": "code",
      "source": [
        "class Fraction:\n",
        "    def __init__(self, numerator, denominator):\n",
        "        self.numerator = numerator\n",
        "        self.denominator = denominator\n",
        "\n",
        "    # Override the __str__ method to display the fraction as \"numerator/denominator\"\n",
        "    def __str__(self):\n",
        "        return f\"{self.numerator}/{self.denominator}\"\n",
        "\n",
        "# Create an instance of the Fraction class\n",
        "fraction = Fraction(3, 4)\n",
        "\n",
        "# Print the fraction (this will call the __str__ method)\n",
        "print(fraction)\n"
      ],
      "metadata": {
        "colab": {
          "base_uri": "https://localhost:8080/"
        },
        "id": "aauVyhOEKaMa",
        "outputId": "bf4bfdc4-3d17-4d7f-d259-38ecd4b13400"
      },
      "execution_count": 10,
      "outputs": [
        {
          "output_type": "stream",
          "name": "stdout",
          "text": [
            "3/4\n"
          ]
        }
      ]
    },
    {
      "cell_type": "markdown",
      "source": [
        "10. **Demonstrate operator overloading by creating a class Vector and  \n",
        "     overriding the add method to add two vectors.**\n",
        "\n",
        "\n"
      ],
      "metadata": {
        "id": "lFIqgvfZKmBq"
      }
    },
    {
      "cell_type": "code",
      "source": [
        "class Vector:\n",
        "    def __init__(self, x, y):\n",
        "        self.x = x\n",
        "        self.y = y\n",
        "\n",
        "    # Overloading the + operator to add two vectors\n",
        "    def __add__(self, other):\n",
        "        # Adding the corresponding components of the vectors\n",
        "        return Vector(self.x + other.x, self.y + other.y)\n",
        "\n",
        "    # Overriding __str__ method to display the vector in a readable format\n",
        "    def __str__(self):\n",
        "        return f\"({self.x}, {self.y})\"\n",
        "\n",
        "# Create two vector objects\n",
        "vector1 = Vector(2, 3)\n",
        "vector2 = Vector(4, 1)\n",
        "\n",
        "# Add the two vectors using the overloaded + operator\n",
        "result_vector = vector1 + vector2\n",
        "\n",
        "# Print the result of the addition\n",
        "print(f\"Result of vector addition: {result_vector}\")\n"
      ],
      "metadata": {
        "colab": {
          "base_uri": "https://localhost:8080/"
        },
        "id": "E6hBnyHZKweJ",
        "outputId": "7b79a3b8-47eb-4517-8913-eb81b8604ae7"
      },
      "execution_count": 11,
      "outputs": [
        {
          "output_type": "stream",
          "name": "stdout",
          "text": [
            "Result of vector addition: (6, 4)\n"
          ]
        }
      ]
    },
    {
      "cell_type": "markdown",
      "source": [
        "11. **Create a class Person with attributes name and age. Add a method greet()\n",
        "     that prints \"Hello, my name is {name} and I am {age} years old.\"**"
      ],
      "metadata": {
        "id": "Z4WBoH8AK6to"
      }
    },
    {
      "cell_type": "code",
      "source": [
        "class Person:\n",
        "    def __init__(self, name, age):\n",
        "        # Initialize the attributes name and age\n",
        "        self.name = name\n",
        "        self.age = age\n",
        "\n",
        "    def greet(self):\n",
        "        # Print a greeting message using the person's name and age\n",
        "        print(f\"Hello, my name is {self.name} and I am {self.age} years old.\")\n",
        "\n",
        "# Create an instance of the Person class\n",
        "person1 = Person(\"Alice\", 30)\n",
        "\n",
        "# Call the greet method on the person instance\n",
        "person1.greet()\n"
      ],
      "metadata": {
        "colab": {
          "base_uri": "https://localhost:8080/"
        },
        "id": "H4h6jpNPLGQX",
        "outputId": "a470d2a3-d113-435c-9f8f-e31442369f70"
      },
      "execution_count": 12,
      "outputs": [
        {
          "output_type": "stream",
          "name": "stdout",
          "text": [
            "Hello, my name is Alice and I am 30 years old.\n"
          ]
        }
      ]
    },
    {
      "cell_type": "markdown",
      "source": [
        "12. **Implement a class Student with attributes name and grades. Create a  \n",
        "     method average_grade() to compute the average of the grades.**"
      ],
      "metadata": {
        "id": "xFkA43e8LQfV"
      }
    },
    {
      "cell_type": "code",
      "source": [
        "class Student:\n",
        "    def __init__(self, name, grades):\n",
        "        # Initialize the name and grades attributes\n",
        "        self.name = name\n",
        "        self.grades = grades\n",
        "\n",
        "    def average_grade(self):\n",
        "        # Compute the average of the grades\n",
        "        if len(self.grades) == 0:\n",
        "            return 0  # Return 0 if there are no grades\n",
        "        return sum(self.grades) / len(self.grades)\n",
        "\n",
        "# Create an instance of the Student class\n",
        "student1 = Student(\"Alice\", [90, 85, 88, 92, 95])\n",
        "\n",
        "# Calculate and print the average grade\n",
        "average = student1.average_grade()\n",
        "print(f\"{student1.name}'s average grade is: {average}\")\n"
      ],
      "metadata": {
        "colab": {
          "base_uri": "https://localhost:8080/"
        },
        "id": "-598aBPyLYZf",
        "outputId": "b7cfe6ac-7f32-4665-cdf6-ab815bc97686"
      },
      "execution_count": 13,
      "outputs": [
        {
          "output_type": "stream",
          "name": "stdout",
          "text": [
            "Alice's average grade is: 90.0\n"
          ]
        }
      ]
    },
    {
      "cell_type": "markdown",
      "source": [
        "13. **Create a class Rectangle with methods set_dimensions() to set the\n",
        "     dimensions and area() to calculate the area.**"
      ],
      "metadata": {
        "id": "1ZYIM3mLLmAR"
      }
    },
    {
      "cell_type": "code",
      "source": [
        "class Rectangle:\n",
        "    def __init__(self):\n",
        "        # Initialize length and width as None\n",
        "        self.length = None\n",
        "        self.width = None\n",
        "\n",
        "    def set_dimensions(self, length, width):\n",
        "        # Set the length and width for the rectangle\n",
        "        self.length = length\n",
        "        self.width = width\n",
        "\n",
        "    def area(self):\n",
        "        # Calculate the area of the rectangle\n",
        "        if self.length is None or self.width is None:\n",
        "            return 0  # Return 0 if dimensions are not set\n",
        "        return self.length * self.width\n",
        "\n",
        "# Create an instance of the Rectangle class\n",
        "rectangle1 = Rectangle()\n",
        "\n",
        "# Set the dimensions of the rectangle\n",
        "rectangle1.set_dimensions(5, 3)\n",
        "\n",
        "# Calculate and print the area of the rectangle\n",
        "print(f\"The area of the rectangle is: {rectangle1.area()}\")\n"
      ],
      "metadata": {
        "colab": {
          "base_uri": "https://localhost:8080/"
        },
        "id": "8TXCkvH2L9h1",
        "outputId": "6c4bd0ba-0649-4c7c-a083-e0705f09a0c4"
      },
      "execution_count": 15,
      "outputs": [
        {
          "output_type": "stream",
          "name": "stdout",
          "text": [
            "The area of the rectangle is: 15\n"
          ]
        }
      ]
    },
    {
      "cell_type": "markdown",
      "source": [
        "14. **Create a class Employee with a method calculate_salary() that computes  \n",
        "     the salary based on hours worked and hourly rate. Create a derived class Manager that adds a bonus to the salary.**"
      ],
      "metadata": {
        "id": "XbCplNVvMEfM"
      }
    },
    {
      "cell_type": "code",
      "source": [
        "# Base class Employee\n",
        "class Employee:\n",
        "    def __init__(self, name, hours_worked, hourly_rate):\n",
        "        self.name = name\n",
        "        self.hours_worked = hours_worked\n",
        "        self.hourly_rate = hourly_rate\n",
        "\n",
        "    # Method to calculate salary based on hours worked and hourly rate\n",
        "    def calculate_salary(self):\n",
        "        return self.hours_worked * self.hourly_rate\n",
        "\n",
        "# Derived class Manager\n",
        "class Manager(Employee):\n",
        "    def __init__(self, name, hours_worked, hourly_rate, bonus):\n",
        "        # Initialize the base class (Employee)\n",
        "        super().__init__(name, hours_worked, hourly_rate)\n",
        "        self.bonus = bonus\n",
        "\n",
        "    # Overriding calculate_salary to include the bonus\n",
        "    def calculate_salary(self):\n",
        "        base_salary = super().calculate_salary()  # Call the base class method\n",
        "        return base_salary + self.bonus\n",
        "\n",
        "# Create an instance of the Employee class\n",
        "employee = Employee(\"John Doe\", 40, 25)\n",
        "\n",
        "# Calculate and print the salary of the employee\n",
        "employee_salary = employee.calculate_salary()\n",
        "print(f\"{employee.name}'s salary: ${employee_salary}\")\n",
        "\n",
        "# Create an instance of the Manager class\n",
        "manager = Manager(\"Alice Smith\", 40, 30, 500)\n",
        "\n",
        "# Calculate and print the salary of the manager (with bonus)\n",
        "manager_salary = manager.calculate_salary()\n",
        "print(f\"{manager.name}'s salary: ${manager_salary}\")\n"
      ],
      "metadata": {
        "colab": {
          "base_uri": "https://localhost:8080/"
        },
        "id": "0EHRSw-GMOEg",
        "outputId": "7b0f90db-c7a9-4145-97dc-69245c473fd7"
      },
      "execution_count": 16,
      "outputs": [
        {
          "output_type": "stream",
          "name": "stdout",
          "text": [
            "John Doe's salary: $1000\n",
            "Alice Smith's salary: $1700\n"
          ]
        }
      ]
    },
    {
      "cell_type": "markdown",
      "source": [
        "15. **Create a class Product with attributes name, price, and quantity.\n",
        "     Implement a method total_price() that calculates the total price of the product.**\n",
        "\n",
        "\n"
      ],
      "metadata": {
        "id": "octOtfn9MaMu"
      }
    },
    {
      "cell_type": "code",
      "source": [
        "class Product:\n",
        "    def __init__(self, name, price, quantity):\n",
        "        self.name = name\n",
        "        self.price = price\n",
        "        self.quantity = quantity\n",
        "\n",
        "    def total_price(self):\n",
        "        # Calculate the total price by multiplying price and quantity\n",
        "        return self.price * self.quantity\n",
        "\n",
        "# Create an instance of the Product class\n",
        "product1 = Product(\"Laptop\", 1000, 3)\n",
        "\n",
        "# Calculate and print the total price of the product\n",
        "total = product1.total_price()\n",
        "print(f\"The total price of {product1.name} is: ${total}\")\n"
      ],
      "metadata": {
        "colab": {
          "base_uri": "https://localhost:8080/"
        },
        "id": "vLBWfKm5Mi9J",
        "outputId": "63b76fca-fe60-499d-dfc7-aea80e35a155"
      },
      "execution_count": 17,
      "outputs": [
        {
          "output_type": "stream",
          "name": "stdout",
          "text": [
            "The total price of Laptop is: $3000\n"
          ]
        }
      ]
    },
    {
      "cell_type": "markdown",
      "source": [
        "16. **Create a class Animal with an abstract method sound(). Create two derived\n",
        "     classes Cow and Sheep that implement the sound() method.**"
      ],
      "metadata": {
        "id": "8fglf_MtMtQY"
      }
    },
    {
      "cell_type": "code",
      "source": [
        "from abc import ABC, abstractmethod\n",
        "\n",
        "# Abstract base class Animal\n",
        "class Animal(ABC):\n",
        "\n",
        "    @abstractmethod\n",
        "    def sound(self):\n",
        "        pass\n",
        "\n",
        "# Derived class Cow\n",
        "class Cow(Animal):\n",
        "\n",
        "    def sound(self):\n",
        "        return \"Moo\"\n",
        "\n",
        "# Derived class Sheep\n",
        "class Sheep(Animal):\n",
        "\n",
        "    def sound(self):\n",
        "        return \"Baa\"\n",
        "\n",
        "# Create instances of Cow and Sheep\n",
        "cow = Cow()\n",
        "sheep = Sheep()\n",
        "\n",
        "# Call the sound method for both\n",
        "print(f\"Cow makes the sound: {cow.sound()}\")\n",
        "print(f\"Sheep makes the sound: {sheep.sound()}\")\n"
      ],
      "metadata": {
        "colab": {
          "base_uri": "https://localhost:8080/"
        },
        "id": "DTn8v5Y_M_hj",
        "outputId": "0c1997b5-9e27-4c44-9e68-7b7de24ccdf0"
      },
      "execution_count": 18,
      "outputs": [
        {
          "output_type": "stream",
          "name": "stdout",
          "text": [
            "Cow makes the sound: Moo\n",
            "Sheep makes the sound: Baa\n"
          ]
        }
      ]
    },
    {
      "cell_type": "markdown",
      "source": [
        "17. **Create a class Book with attributes title, author, and year_published.  \n",
        "     Add a method get_book_info() that returns a formatted string with the book's details.**"
      ],
      "metadata": {
        "id": "ZfdavCKmNHXM"
      }
    },
    {
      "cell_type": "code",
      "source": [
        "class Book:\n",
        "    def __init__(self, title, author, year_published):\n",
        "        # Initialize the attributes of the book\n",
        "        self.title = title\n",
        "        self.author = author\n",
        "        self.year_published = year_published\n",
        "\n",
        "    def get_book_info(self):\n",
        "        # Return a formatted string with the book's details\n",
        "        return f\"Title: {self.title}\\nAuthor: {self.author}\\nYear Published: {self.year_published}\"\n",
        "\n",
        "# Create an instance of the Book class\n",
        "book1 = Book(\"To Kill a Mockingbird\", \"Harper Lee\", 1960)\n",
        "\n",
        "# Get and print the book information\n",
        "book_info = book1.get_book_info()\n",
        "print(book_info)\n"
      ],
      "metadata": {
        "colab": {
          "base_uri": "https://localhost:8080/"
        },
        "id": "548l05yXNNJq",
        "outputId": "92c51000-2445-46df-d292-b5aa1d645a18"
      },
      "execution_count": 19,
      "outputs": [
        {
          "output_type": "stream",
          "name": "stdout",
          "text": [
            "Title: To Kill a Mockingbird\n",
            "Author: Harper Lee\n",
            "Year Published: 1960\n"
          ]
        }
      ]
    },
    {
      "cell_type": "markdown",
      "source": [
        "18. **Create a class House with attributes address and price. Create a derived class Mansion that adds an attribute number_of_rooms.**"
      ],
      "metadata": {
        "id": "M8yicpyiNXh5"
      }
    },
    {
      "cell_type": "code",
      "source": [
        "# Base class House\n",
        "class House:\n",
        "    def __init__(self, address, price):\n",
        "        self.address = address\n",
        "        self.price = price\n",
        "\n",
        "    def get_house_info(self):\n",
        "        # Return the house details\n",
        "        return f\"Address: {self.address}\\nPrice: ${self.price}\"\n",
        "\n",
        "# Derived class Mansion\n",
        "class Mansion(House):\n",
        "    def __init__(self, address, price, number_of_rooms):\n",
        "        # Initialize the base class (House)\n",
        "        super().__init__(address, price)\n",
        "        self.number_of_rooms = number_of_rooms\n",
        "\n",
        "    def get_mansion_info(self):\n",
        "        # Return the mansion details including number of rooms\n",
        "        base_info = self.get_house_info()\n",
        "        return f\"{base_info}\\nNumber of Rooms: {self.number_of_rooms}\"\n",
        "\n",
        "# Create an instance of the House class\n",
        "house1 = House(\"123 Main St\", 250000)\n",
        "\n",
        "# Create an instance of the Mansion class\n",
        "mansion1 = Mansion(\"456 Luxury Ave\", 5000000, 10)\n",
        "\n",
        "# Get and print the house information\n",
        "print(\"House Info:\")\n",
        "print(house1.get_house_info())\n",
        "\n",
        "# Get and print the mansion information\n",
        "print(\"\\nMansion Info:\")\n",
        "print(mansion1.get_mansion_info())\n"
      ],
      "metadata": {
        "colab": {
          "base_uri": "https://localhost:8080/"
        },
        "id": "Buh2IpeqNusQ",
        "outputId": "ffdad8d1-5f99-4914-c499-b188f7828a8a"
      },
      "execution_count": 21,
      "outputs": [
        {
          "output_type": "stream",
          "name": "stdout",
          "text": [
            "House Info:\n",
            "Address: 123 Main St\n",
            "Price: $250000\n",
            "\n",
            "Mansion Info:\n",
            "Address: 456 Luxury Ave\n",
            "Price: $5000000\n",
            "Number of Rooms: 10\n"
          ]
        }
      ]
    }
  ]
}